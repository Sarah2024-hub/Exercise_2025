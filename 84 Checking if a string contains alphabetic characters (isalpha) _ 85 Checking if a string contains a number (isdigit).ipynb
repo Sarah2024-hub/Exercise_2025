84.  문자열이 알파벳인지 검사하기 (isalpha)	

txt1='A'
txt2='안녕'
txt3 = 'Warcraft Three'
txt4 = '3PO'
ret1 = txtl.isalpha()
ret2 = txt2.isalpha()
ret3 = txt3.isalpha()
ret4 = txt4.isalpha()
print(ret1)         # True가 출력됨
print(ret2)         # True가 출력됨
print(ret3          # False가 출력됨
print(ret4)         # False가 출력됨


85． 문자열이 숫자인지 검사하기(isdigit)	

txt1 = '010-1234-5678'
txt2 = 'R2D2'
txt3 = '1212'
ret1 = txt1 isdigit( )
ret2 = txt2.isdigit( )
ret3 = txt3.isdigit( )
print(ret1)         # False가 출력됨
print(ret2)         # False가 출력됨
print(ret3)         # True가 출력됨
