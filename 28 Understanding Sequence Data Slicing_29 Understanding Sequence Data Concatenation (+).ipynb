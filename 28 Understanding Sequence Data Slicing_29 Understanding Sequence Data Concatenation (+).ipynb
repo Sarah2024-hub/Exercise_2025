28. 시퀀스 자료 슬라이싱 이해하기
strdata = 'Time is money!!'
print(strdata[1:5])                  #'ime'가 출력됨
print(strdata[:7])                   #'Time is'가 출력됨
print(strdata[9:])                   #'oney!!'가 출력됨
print(strdata[:-3])                  #'Time is mone'이 출력됨
print(strdata[-3:])                  #'y!!'이 출력됨
print(strdata[:])                    #'Time is money!!'가 출력됨
print(strdata[::2])                  #'Tm smny!'가 출력됨


29. 시퀀스 자료 연결 이해하기(+)
strdatal = 'I love '; strdata2 = 'Python'; strdata3 = 'you'
listdatal = [1, 2, 3]; listdata2 = [4, 5, 6]
print(strdatal + strdata2)                       #'I love Python'이 출력됨       
print(strdatal + strdata3)                       #'I love you'가 출력됨 
print(listdatal + listdata2)                     #[1, 2, 3, 4, 5, 6]이 출력됨
