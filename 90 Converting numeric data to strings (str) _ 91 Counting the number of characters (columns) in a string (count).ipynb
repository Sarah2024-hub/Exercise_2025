90． 수치형 자료를 문자열로 변환하기(str)

num1= 1234
num2 = 3.14
numstr1 = str(num1)
numstr2 = str(num2)
print('num1을 문자열로 변환한 값은 %s"입니다.' %numstr1)
print('num2를 문자열로 변환한 값은 %s"입니다.' %numstr2)


91． 문자열에 있는 문자(열) 개수 구하기(count)

txt= 'A lot of things occur each day, every day.'
word _count1 = txt.count('o')
word _count2 = txt.count('day')
word _count3 = txt.count(' ')
print(word _count1)           # 3이 출력됨
print(word _count2)           # 2가 출력됨
print(word _count3)           # 8이 출력됨
