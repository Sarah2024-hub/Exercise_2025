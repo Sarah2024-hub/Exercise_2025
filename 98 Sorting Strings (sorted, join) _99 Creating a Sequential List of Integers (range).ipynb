98． 문자열을 정렬하기(sorted, join)
	
strdata = input('정렬할 문자열을 입력하세요:')
ret1 = sorted(strdata)
ret2 = sorted(strdata, reverse=True)
print(ret1)
print(ret2)
ret1 = " join(ret1)
ret2 = ".join(ret2)
print('오름차순으로 정렬된 문자열은<+ret1+'입니다!')
print('내림차순으로 정렬된 문자열은 <'+ Tet2+'입니다.')


99.순차적인 정수 리스트 만들기(range)

ange1 = range(10)
range2 = range(10, 20)
print(list(range1))       #[0,1, 2, 3, 4, 5, 6, 7, 8, 9]가 출력됨
print(lis(range2))        #[10, 11, 12, 13, 14, 15, 16, 17, 18, 19]가 출력됨
