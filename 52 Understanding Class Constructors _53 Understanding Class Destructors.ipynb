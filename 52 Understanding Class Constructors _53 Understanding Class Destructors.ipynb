52. 클래스 생성자 이해하기

class MyClass:
  def __init__(self):
    self.var = '안녕하세요!'
    print('MyClass 인스턴스 객체가 생성되었습니다)

obj = MyClass( )        #'MyClass 인스턴스 객체가 생성되었습니다'가 출력됨
print(obj.var)          #'안녕하세요'가 출력됨


53． 클래스 소멸자 이해하기

class MyClass:
  def __del (self):
    print'MyClass 인스턴스 객체가 메모리에서 제거됩니다)

obj = MyClass( )
del obj                #'MyClass 인스턴스 객체가 메모리에서 제거됩니다'가 출력됨
