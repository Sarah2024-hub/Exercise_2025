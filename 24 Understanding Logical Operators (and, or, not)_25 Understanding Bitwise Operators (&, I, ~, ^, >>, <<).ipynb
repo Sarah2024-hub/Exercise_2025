24. 논리 연산자 이해하기(and, or, not)

bool1 = True; bool2 = False; bool = True; bool4 = False
print(bool1 and bool2)                            # False가 출력됨
print(bool1 and bool3)                            # True가 출력됨
print(bool2 or bool3)                             # True가 출력됨
print(bool2 or bool4)                             # False가 출력됨
print(not bool1)                                  # False가 출력됨
print(not bool2)                                  # True가 출력됨


25. 비트 연산자 이해하기(&, |, ~, ^, >>,<<)

bit1 = 0x61            
bit2 = 0x62
print(hex(bit1 & bit2))                           # 0x60이 출력됨
printhe(bit1 | bit2))                             # 0x63이 출력됨
print(hex(bit1 ^ bit2))                           # 0x3이 출력됨
print(hex(bit1 >> 1))                             # 0x30이 출력됨
print(hex(bit1 << 2))                             # 0x184가 출력됨
