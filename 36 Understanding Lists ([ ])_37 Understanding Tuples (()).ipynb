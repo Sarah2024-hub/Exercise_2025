36. 리스트 이해하기([])

list1 = [1, 2, 3, 4, 5]
list2 = l'a', 'b','c']
list3 = [1, 'a', 'abc', [1, 2, 3, 4, 51. l'a', 'b', 'c']]
list1[0] = 6
print(list1)                       # [6, 2, 3, 4, 5]가 출력됨

def myfunc( ):
  print('안녕하세요')
list4 = [l, 2, myfunc]
list4[2]( )                        #'안녕하세요'가 출력됨

37. 튜플 이해하기(())

tuple1 = (1,2, 3, 4, 5)
tuple2 = ('a', 'b''c')
tuple3 = (1, 'a', 'abc', [1, 2, 3, 4, 5], ['a', 'b', 'c'])
tuplel[0] = 6

def myfunc():

  print('안녕하세요')

tuple4 = (1,2, myfunc)
tuple4[2]()                       #'안녕하세요'가 출력됨
