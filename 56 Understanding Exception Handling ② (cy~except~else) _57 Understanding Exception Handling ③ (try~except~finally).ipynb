56． 예외처리 이해하기 ② (cy~except~else)

try:
  print('안녕하세요.')
  print(param)
except:
  print('예외가 발생했습니다!')
else:
  print('예외가 발생하지 않았습니다.')


57． 예외처리 이해하기 ③ (try~except~finally)

try:
  print('안녕하세요.')
  print(param)
except:
  print('예외가 발생했습니다!')
finally:
  print('무조건 실행하는 코드')
