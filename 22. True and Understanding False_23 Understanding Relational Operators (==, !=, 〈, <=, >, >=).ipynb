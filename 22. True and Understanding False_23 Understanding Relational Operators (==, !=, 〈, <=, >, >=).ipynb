22. True와 False 이해하기

a = True
b = False
print(a == 1)                               # True가 출력됨
print(b != 0)                               # False가 출력됨


23. 관계 연산자 이해하기(==,!=, <,<=, >,>=)

x = 1; y = 2
str1 = 'abc'; str2 = 'python'
print(x == y)                               # False가 출력됨
print(x!= y)                                # True가 출력됨
print(str1 == str2)                         # False가 출력됨
print(str2 == 'python')                     # True가 출력됨
print(str1 < str2)                          # True가 출력됨
