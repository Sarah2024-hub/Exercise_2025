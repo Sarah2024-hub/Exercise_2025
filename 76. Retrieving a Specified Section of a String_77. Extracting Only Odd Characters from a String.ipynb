76． 문자열에서 지정한 구간의 문자열 얻기

txt1 = 'A tale that was not right'
txt2 ='이 또한 지나가리라.'
print(txtl[3:7])       #'ale '이 출력됨
print(txt1[:6])        #'A tale'이 출력됨
print(txt2l-4:])       #'가리라.'가 출력됨


77． 문자열에서 홀수 번째 문자만 추출하기

txt= 'aAbBcCdDeEfFgGhHiljJkK'
ret = txt[::2]
print(ret)            #'abcdefghijk' 가 출력됨


