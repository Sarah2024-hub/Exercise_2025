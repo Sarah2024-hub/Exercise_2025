60. 사용자 입력받기(input)

k= input('<값>을 입력하세요:')
print('당신이 입력한 값은 <'+k +'>입니다.')


61． 자료형 확인하기(type)

umdata = 57
strdata ='파이썬'
listdata = [1, 2, 3]
dictdata = {'a':1, 'b':2}

def func():
  print('안녕하세요.')
print(type(numdata))
print(type(strdata))
print(type(listdata))
print(type(dictdata))
print(type(func))


