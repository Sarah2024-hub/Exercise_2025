62． 나눗셈에서 나머지만 구하기(%)

a = 11113
b = 23
ret = a%b
print('<%d>를 <%d>로 나누면 <%d>가 나머지로 남습니다.' %(a, b, ret))



63． 몫과 나머지 구하기(divmod)

a = 11113
b = 23
ret1, ret2 = divmod(a, b)
print('<%d/%d>는 몫이 <%d>, 나머지가 <%d>입니다.' %(a, b, ret1, ret2))
