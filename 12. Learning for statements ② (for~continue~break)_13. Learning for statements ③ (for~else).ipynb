12. for문 개념 배우기 ② (for~continue~break)

scope = [1, 2, 3, 4, 5]
for x in scope:
  print(x)
  if x < 3:
  continue
else:
  break


13. for문 개념 배우기 ③ (for~else)
scope = [1, 2, 3,]
for x in scope:
  print(x)
  #break
else:
  print('Perfect')
