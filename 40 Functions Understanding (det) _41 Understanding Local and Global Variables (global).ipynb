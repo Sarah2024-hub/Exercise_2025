40. 함수 인자 이해하기

def add_txt(t1, t2='파이썬"):
print(t1+':' +t2)

add_txt('베스트)                                #'베스트 : 파이썬'이 출력됨
add_txt(t2='대한민국', t1='1등)                  #'1등 : 대한민국'이 출력됨

def funcl*args):
  print(args)

def func2(width, height, **kwargs):
  print(kwargs)

funcl()                                       # 빈 튜플()이 출력됨
funcl (3, 5, 1, 5)                            # (3, 5, 1, 5)가 출력됨
func2(10, 20)                                 # 빈 사전 {}이 출력됨
func2(10, 20, depth=50, color= 'blue')          #('depth':50,'color':'blue'} 이 출력됨


41. 지역변수와 전역변수 이해하기(global)

param = 10
strdata ='전역변수'

def funcl():
  strdata = '지역변수'
  print(strdata)

def func2(param):
  param = 1

ef func3():
  global param
  param = 50

funcl()                      #'지역변수'가 출력됨
print(strdata)               #'전역변수'가 출력됨
print(param)                 # 10이 출력됨
func2(param)                
print(param)                 # 10이 출력됨
func3()
print(param)                 # 50이 출력됨
