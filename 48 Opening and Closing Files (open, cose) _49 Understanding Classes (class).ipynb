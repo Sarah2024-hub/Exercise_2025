48. 파일 열고 닫기(open, close)

f1 = open('text.txt', 'I')
t2 = open('d:/myimages/mypicture1.jpg', 'rb')

#------------------------------
# 오픈한 파일을 처리하는 코드를 작성함
#------------------------------

f1.close()
f2.close()

49. 클래스 이해하기(class)

class MyClass:
  var = '안녕하세요'
  def sayHello(self):
    print(self.var)

obj = MyClass()        # MyClass 인스턴스 객체 생성
print(obj.var)         #'안녕하세요'가 출력됨
obj.sayHello()         #'안녕하세요'가 출력됨
