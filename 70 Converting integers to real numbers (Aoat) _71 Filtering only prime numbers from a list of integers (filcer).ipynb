70． 정수형 자료를 실수형 자료로 변환하기(Aoat)
	
fdata = float(10)
print(fdata)          # 10.0으로 출력됨


71． 정수 리스트에서 소수만 걸러내기(filcer)

def getPrime(x):
  if x%2 == 0:
    return

  for i in rang(3, int(x/2), 2):
    if x%i == 0 
      break
  else:
    return x

listdata = [117, 119, 1113, 11113, 11119]
ret = filter(getPrime, listdata)
print(list(ret))      # [11113, 11119]가 출력됨
