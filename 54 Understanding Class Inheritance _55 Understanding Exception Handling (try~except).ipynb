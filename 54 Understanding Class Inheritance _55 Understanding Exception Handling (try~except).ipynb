54． 클래스 상속 이해하기

class Add:
  def add(self, n1, n2):
    return n1+n2

class Calculator(Add):
  def sub(self, n1, n2):
    return n1-n2

obj = Calculator( )
print(obj.add(1, 2))          # 3이 출력됨
print/obj.sub(1, 2))          #-1이 출력됨


55． 예외처리 이해하기 (try~except)

try:
  print('안녕하세요.')
  print(param)
except:

  print('예외가 발생했습니다!')
