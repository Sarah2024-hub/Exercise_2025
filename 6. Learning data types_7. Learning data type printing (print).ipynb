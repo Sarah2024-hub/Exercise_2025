6. Learning data types

int_data = 1                               # 정수 선언
float_data = 3.14                          # 실수 선언
complex _data = 1+5j                       # 복소수 선언
str _datal = 'I love Python'               # 문자열 선언 (영문)
str_data2 ="반갑습니다."                    # 문자열 선언 (한글)
list_data = [1, 2, 3]                      # 리스트 선언
tuple_data = (1, 2, 3)                     # 튜플 선언
dict _data = 10:'False', 1: 'True')        # 사전 선언

7. Learning data type printing (print)

a = 200
msg = 'I love Python'
list_data = l'a', b', 'c']
dict_data = l'a':97, 'b':98}
print(a)
print(msg)
print(list _data)
print(list_data[0])
print(dict _data)
print(dict _datal'a'])
