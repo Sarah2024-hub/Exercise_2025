80． 문자열을 반복해서 새로운 문자열로 만들기(*)

msg1 = '여러분'
msg2='파이팅!'
display_msg = msg1 + '' + msg2-3 + '~!'
print(display _msg)


81． 문자열에서 특정 문자가 있는지 확인하기(in)
	
msg= input('임의의 문장을 입력하세요: ')
if'a' in msg:
  print('당신이 입력한 문장에는 a가 있습니다.')
else:
  print('당신이 입력한 문장에는 a가 없습니다.')

