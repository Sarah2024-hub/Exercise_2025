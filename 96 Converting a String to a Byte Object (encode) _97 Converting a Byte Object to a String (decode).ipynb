96． 문자열을 바이트 객체로 바꾸기(encode)•.

u_txt = I love python'
b_txt = u_txt.encode()
print(u_txt)
print(b_txt)

ret1 = 'I' == u_txt[0]
ret2 = 'I' == b_txt[0]
print(ret1)          # True가 출력됨
print(ret2)          # False가 출력됨


97． 바이트 객체를 문자열로 바꾸기(decode)	

b_txt = b'A lot of things occur each day!'
u_ txt = b_txt.decode()
print(u_txt)
