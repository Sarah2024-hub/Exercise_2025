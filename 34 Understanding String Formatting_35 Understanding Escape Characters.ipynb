34. 문자열 포맷팅 이해하기

txt1 ='자바: txt2='파이썬'
numl = 5; num2 = 10
print('나는 %s보다 %s에 더 익숙합니다. %(txt1, txt2))
print(%은 %s보다 %d배 더 쉽습니다. %(txt2, txt1, num1))
print('%d + %d = %d' %(num1, num2, num1 +num2))
print('작년 세계 경제 성장률은 전년에 비해 %d%% 포인트 증가했다! %numl)


35. 이스케이프 문자 이해하기

print('나는 파이썬을 사랑합니다. In 파이썬은 자바보다 훨씬 쉽습니다.)
print('Name: John SmithItSex: MaleltAge: 22')
print('이 문장은 화면폭에 비해 너무 길어 보기가 힘듭니다.\
그래서 \\Enter 키를 이용해 문장을 다음줄과 연속되도록 했습니다.')
print('작은따옴표(\')와 큰 따옴표(")는 문자열을 정의할 때 사용합니다.
