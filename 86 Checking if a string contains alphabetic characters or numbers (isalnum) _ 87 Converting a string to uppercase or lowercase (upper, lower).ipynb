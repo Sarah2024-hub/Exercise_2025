86． 문자열이 알파벳 또는 숫자인지 검사하기(isalnum)

txt1 = '안녕하세요?'
txt2= '1. Tile-제목을 넣으세요'
txt3 ='3피오R2D2'
ret1 = txt1.isalnum( )
ret2 = txt2.isalnum( )
ret3 = txt3.isalnum( )
print(ret1)           #False가 출력됨
print(ret2)           #False가 출력됨
print(ret3)           #True가 출력됨


87． 문자열에서 대소문자 변환하기(upper, lower)

txt = 'A lot of Things occur each day!
ret1 = txt.upper( )
ret2 = txt.lower( )
print(ret1)
print(ret2)
