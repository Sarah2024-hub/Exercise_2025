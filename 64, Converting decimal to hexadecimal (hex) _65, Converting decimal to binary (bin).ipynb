64． 10진수를 16진수로 변환하기(hex)

h1 = hex(97)           #hl은 문자열 '0x61' 
h2 = hex (98)          #h2는 문자열 '0x62'
ret1 = h1 +h2
print(ret1)            #'0x610x62' 가 출력됨
a = int(h1, 16)
b = int(h2, 16)
ret2 = a + b           # ret2는 10진수 195가 됨
print(hex(ret2))       #'0xc3' 가 출력됨


65． 10진수를 2진수로 변환하기(bin)

b1 = bin(97)            #b1은 문자열 '0b11000001' 
b2 = bin(98)            #b2는 문자열 '0b11000010'
ret1 = b1 + b2
print(retl)             #'0b110000010b11000010'가 출력됨
a = int(b1, 2)
b = int(b2, 2)
ret2 = a + b
print(bin(ret2))         #'0b11000011' 이 출력됨
