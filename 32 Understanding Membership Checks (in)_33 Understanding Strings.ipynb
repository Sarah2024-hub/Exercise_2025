32. 멤버체크 이해하기(in)

listdata =[1, 2, 3, 41
ret1 = 5 in listdata                    #False
ret2 = 4 in listdata                    # True
print(ret1); print(ret2)
strdata = 'abcde'
ret3 = 'c' in strata                    # True
ret4 = '1' in strdata                   # False
print(ret3); print(ret4)


33. 문자열 이해하기

strdata1 ='나는 파이썬 프로그래머다'           # 문자열 선언 방법 1
strdata2 = "You are a programmer"        # 문자열 선언 방법 2
strdata3 ="""I love                      #문자열 선언 방법 3
  python. You love
python too!
"""
strdata4 = "My son's name is John"       #"" 안에서' 사용하기
strdata5 ='문자열 "abc"의 길이는 3입니다.'     #"" 안에서' 사용하기
