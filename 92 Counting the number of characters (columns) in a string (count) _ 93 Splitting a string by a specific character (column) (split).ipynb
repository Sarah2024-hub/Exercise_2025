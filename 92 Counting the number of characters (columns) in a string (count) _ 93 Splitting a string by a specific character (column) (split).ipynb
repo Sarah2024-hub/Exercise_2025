92． 문자열에서 특정 문자(열) 위치 찾기(find)

txt = 'A lot of things occur each day, every day.'
offset1 = txt.find('e')
offset2 = txt.find('day')
offset3 = txt.find('day', 30)
print(offset1)           # 22가 출력됨
print(offset2)           # 27이 출력됨
print(offset3)           # 38이 출력됨


93． 문자열을 특정 문자(열)로 분리하기(Split)

ur1= 'http:/www.naver.com/news/today=20160831'
10g='name:홍길동 age:17 sex:남자 nation:조선'

ret1 = url.split('/')
print(ret1)

ret2 = log.split()
for data in ret2:
  d1, d2 = data.split(':')
  print('%s -> %s' %(d1, d2))
