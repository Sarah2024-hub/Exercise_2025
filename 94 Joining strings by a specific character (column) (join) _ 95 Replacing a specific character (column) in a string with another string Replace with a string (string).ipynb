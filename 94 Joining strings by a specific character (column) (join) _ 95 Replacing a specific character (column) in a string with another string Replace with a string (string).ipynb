94． 문자열을 특정 문자(열)로 결합하기(join)

oglist=[2016/08/26 10:12:11, 200' 'OK'. '이 또한 지나가리라]
bond = ';'
log = bond.join(loglist)
print(log)


95． 문자열에서 특정 문자(열)를 다른 문자(열)로 바꾸기(replace)

txt = 'My password is 1234'
ret1 = txt.replace('1', '0')
ret2 = txt.replace('1', 'python')
print(ret1)              #'My Password is 0234'가 출력됨
print(ret2)              #'My Password is python234'가 출력됨

1x='매일 많은 일들이 일어납니다.'
ref3= txt.replace('매일', '항상')
ret4= ret3.replace('일', '사건')
print(ret3)              #'항상 많은 일들이 일어납니다.'가 출력됨
print(ret4)              #'항상 많은 사건들이 사건어납니다.'가 출력됨
