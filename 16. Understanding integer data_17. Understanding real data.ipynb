16. 정수형 자료 이해하기

int_data = 10
bin_ data = 0b10
oct_data = 0o10
hex_data = 0x10
long_data = 1234567890123456789
print(int_data)
print(bin _data)
print(oct _data)
print(hex_data)
print(long _data)


17. 실수형 자료 이해하기

f1 = 1.0
f2 = 3.14
f3 = 1.56e3
f4 = -0.7e-4
print(f1)
print(f2)
print(f3)
print(14)
