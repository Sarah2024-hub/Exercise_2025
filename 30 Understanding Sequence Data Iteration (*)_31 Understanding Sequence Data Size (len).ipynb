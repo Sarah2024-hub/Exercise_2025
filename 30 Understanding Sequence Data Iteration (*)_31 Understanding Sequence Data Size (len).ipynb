30. 시퀀스 자료 반복 이해하기(*)

artist = '빅뱅'
sing='뱅~'
dispdata = artist+'이 부르는 '+ sing*3
print(dispdata)                         #'빅뱅이 부르는 뱅~뱅~뱅~'이 출력됨


31. 시퀀스 자료 크기 이해하기(len)

strdata1 = 'I love python'
strdata2 ='나는 파이썬을 사랑합니다'
listdata = ['a', 'b', 'c', strdatal, strdata2]
print(len(strdata1))                     # 13이 출력됨
print(len(strdata2))                     # 13이 출력됨
print(len(listdata))                     # 5가 출력됨
print(len(listdata[3]))                  # 13이 출력됨
