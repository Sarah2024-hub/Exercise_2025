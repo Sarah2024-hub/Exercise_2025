38. 사전 이해하기({})

dict1 = {'a':1, 'b':2, 'c:3}
print(dict1['a'])               # 1이 출력됨
dict1['d'] = 4                 
print(dict1)                    #{'o:1, "b':2, 'c:3, 'd 4}가 출력되나 순서가 틀릴 수 있음
dict1['b'] = 7
print(dict1)                    #('a:1,"b':7,'c':3, 'd:4)가 출력되나 순서가 틀릴 수 있음
print(len(dict1))               # 4가 출력됨


39. 함수 이해하기(def)
def add _number(n1, n2):
  ret = n1+n2
  return ret

def add_txt(t1, t2):
  print(t1+t2)

ans = add_number (10, 15)
print(ans)                      # 25가 출력됨
text1='대한민국~'
text2 ='만세!!'
add _txt(text1, text2)          #'대한민국~만세!가 출력됨
