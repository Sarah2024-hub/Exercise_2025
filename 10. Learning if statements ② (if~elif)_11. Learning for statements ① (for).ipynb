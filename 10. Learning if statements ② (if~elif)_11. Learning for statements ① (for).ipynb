10. if문 개념 배우기 ②(if~elif)

x = 1
y = 2
if x > y:
  print('x가 y보다 큽니다.')
elif x < y:
  print('x가 y보다 작습니다.')
else:
  print('x와 y가 같습니다.)

11. for문 개념 배우기 ① (for)
scope = [1, 2, 3, 4, 5]
for x in scope:
  print(x)
