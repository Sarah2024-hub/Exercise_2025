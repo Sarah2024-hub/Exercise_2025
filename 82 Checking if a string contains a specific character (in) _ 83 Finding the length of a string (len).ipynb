82． 문자열에서 특정 문자열이 있는지 확인하기(in)

msg= input'임의의 문장을 입력하세요:')
if 'is' in msg:
  Print'당신이 입력한 문장에는 is가 있습니다.')
else:
  print('당신이 입력한 문장에는 is가 없습니다.')


83． 문자열 길이 구하기(len)

msg = input('임의의 문장을 입력하세요:' )
msglen = len(msg)
print ('당신이 입력한 문장의 길이는 <%d>입니다.' %msglen)
