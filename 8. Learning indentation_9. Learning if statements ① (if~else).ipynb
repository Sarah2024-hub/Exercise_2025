8. Learning indentation

listdata = l'a', 'b', 'c']
if'a' in listata:
  print(a가 istdata에 있습니다.)
  print(listdata)
else
  print('a가 listdata에 존재하지 않습니다.')

9. Learning if statements ① (if~else)

x = 1
y = 2
if x >= y:
  print('x가 x보다 크거나 같습니다.)
else:
  print(x가y보다 작습니다.)
