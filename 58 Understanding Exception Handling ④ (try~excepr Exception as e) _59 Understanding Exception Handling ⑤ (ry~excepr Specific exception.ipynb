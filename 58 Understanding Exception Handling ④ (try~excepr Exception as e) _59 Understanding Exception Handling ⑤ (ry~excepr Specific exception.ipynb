58． 예외처리 이해하기 ④ (try~excepr Exception as e)

try:
  print(param)
except Exception as e:
  print(e)                          # name 'param' is not defined가 출력됨


59． 예외처리 이해하기 ⑤ (ry~excepr 특정 예외

import time
count = 1
try:
  while True:
    print(count)
    count += 1
    time.sleep(0.5)
except KeyboardInterrupt:             # Ctrl+C가 입력되면 발생하는 오류
  print('사용자에 의해 프로그램이 중단되었습니다.')
