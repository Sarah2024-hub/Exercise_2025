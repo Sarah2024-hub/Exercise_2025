42. 함수 리턴값 이해하기(return)

def reversex, y, z):
  return z, y, x

ret = reverse(1, 2, 3)
print(ret)                                  #(3, 2, 1)이 출력됨

r1, r2, r3 = reverse('a', 'b','c')
print(r1); print(r2); print(r3)             #'C', 'b', 'Q' 순으로 출력돋


43. 파이썬 모듈 이해하기

import time

print('5초간 프로그램을 정지합니다.)
time.sleep(5)
print('5초가 지나갔습니다.)
