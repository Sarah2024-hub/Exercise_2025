26. 시퀀스 자료형 이해하기

trdata = 'abcde'                       # 문자열은 시퀀스 자료형임 
1istdata = [1, [2, 3], '안녕']          # 리스트는 시퀀스 자료형임 
tupledata = (100, 200, 300)            # 튜플은 시퀀스 자료형임

27. 시퀀스 자료 인덱싱 이해하기

trdata = 'Time is money!!'
listdata = [1, 2, [1, 2, 3]]
print(strdata[5])                      #'i'가 출력됨
print(strdata[-2])                     #'!'가 출력됨
print(listdata[0])                     # 1이 출력됨
print(listdata[-1])                    #[1, 2, 3]이 출력됨
print(listdata[2][-1])                 #3이 출력됨
