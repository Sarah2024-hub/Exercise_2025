72． 최대값, 최소값 구하기(max, min)

listdata = [9.96, 1.27, 5.07, 6.45, 8.38, 9.29, 4.93, 7.73, 3.71, 0.93]
maxva1 = max(listdata)
minva1 = min(listdata)
print(maxval)          # 9.96이 출력됨
print(minval)          # 0.93이 출력됨

txt = 'Alotofthingsoccureachday'
maxva1 = max(txt)
minva1 = min(txt)
print(maxval);          #'y'가 출력됨
print(minval)           #'A'가 출력됨


maxva1 = max(2+3, 2+3, 2**3, 3**2)
minva1 = min('abz', 'a12')
print(maxval)           # 9가 출력됨
print(minval)           #'a12'가 출력됨


73． 1바이트에서 하위 4비트 추출하기

a = 107                 # 16진수로 0x6b
b = a & 0x0f
print(b)                # 11이 출력됨. 11은 16진수로 b임
