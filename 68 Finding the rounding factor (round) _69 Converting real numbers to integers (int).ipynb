68. 반올림수 구하기(round)

ret1 = round(1118)             # 소수점 첫째자리에서 반올림해줌
ret2 = round (16.554)          # 소수점 첫째자리에서 반올림해줌
ret3 = round(1118, -1)         # 1자리에서 반올림해줌
ret4 = round(16.554, 2)        # 소수점 셋째자리에서 반올림해줌
print(ret1)      # 1118
print(ret2)      # 17
print(ret3)      # 1120
print(ret4)      # 16.55


69． 실수형 자료를 정수형 자료로 변환하기(int)

idata1 = int(-5.4)
idata2 = int(1.78el)
idata3 = int(171.56)
print(idata1)     # -5가 출력됨
print(idata2)     # 17이 출력됨
print(idata3)     # 171이 출력됨

