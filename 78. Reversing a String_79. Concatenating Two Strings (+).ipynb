78． 문자열을 거꾸로 만들기

txt ='abcdefghijk'
ret = txt[::-1]
print(ret)           #'kjihgfedcba' 가 출력됨


79． 두 개의 문자열 합치기(+)

filename = input('저장할 파일이름을 입력하세요: )
filename = filename + 'jpg'
display_msg='당신이 저장한 파일은 <'+ filename+'>입니다.'
print(display_msg)
