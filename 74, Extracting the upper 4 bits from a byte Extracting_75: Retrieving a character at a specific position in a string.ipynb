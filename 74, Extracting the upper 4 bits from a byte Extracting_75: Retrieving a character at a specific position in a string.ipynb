74．1바이트에서 상위 4비트 추출하기

a = 107
b = (a>>4) & 0x0f
print(b)         # 6이 출력됨


75． 문자열에서 특정 위치의 문자 얻기

txt1 = 'A tale that was not right'
txt2 = '이 또한 지나가리라.'
print(txt1[5])   #'e'가 출력됨
print(txt2[-2])  #'래'가 출력됨
