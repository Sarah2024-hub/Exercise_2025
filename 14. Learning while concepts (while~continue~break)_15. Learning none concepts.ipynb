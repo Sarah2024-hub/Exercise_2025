14. while 개념 배우기(while~continue~break)

x = 0
while x < 10:
  x = x+1
  if x < 3:
    continue
  print(x)
  if x > 7: 
    break


15. None 개념 배우기
va1 = None
condition = 1
if condition == 1:
  va1 = [1, 2, 3]
else:
  va1 = 'I love Python'
