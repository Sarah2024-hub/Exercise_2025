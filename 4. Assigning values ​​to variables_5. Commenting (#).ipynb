4. Assigning values ​​to variables
{
number=1
pi=3.14
flag=True
char='x'
chars='I love Python'
}

5. Commenting (#)
{#주석 처리 예시임
# 만들 날짜:2016.5.30
a=1
b=5
print(a+b)
}
