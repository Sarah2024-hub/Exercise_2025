88． 문자열에서 좌우 공백 제거하기(strip, rstrip, strip)

txt=' 양쪽에 공백이 있는 문자열입니다.'
ret1 = txt.lstrip()
ret2 = txt.rstrip()
ret3 = txt.strip()
print('<'+txt+'>')
print('<'+ret1+'>')
print('<'+ret2+'>')
print('<'+ret3+'>')


89． 문자열을 수치형 자료로 변환하기(int, foat)

numstr= input('숫자를 입력하세요:")
try:
  num = int(numstr)
  print('당신이 입력한 숫자는 정수<%d>입니다.' %num)
except:
  try:
    num = float(numstr)
    print'당신이 입력한 숫자는 실수 <%>입니다. %num)
except:
  print('+++숫자를 입력하세요~+++')
