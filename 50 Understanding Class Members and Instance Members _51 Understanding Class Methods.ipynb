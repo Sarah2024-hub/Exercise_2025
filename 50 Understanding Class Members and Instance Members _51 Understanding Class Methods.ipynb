50. 클래스 멤버와 인스턴스 멤버 이해하기

class MyClass:
  var = '안녕하세요!!'
  def sayHello(selt):
    param1= '안녕'
    self.param2='하이'
    print(param1)                          #'안녕'이 출력됨 
    print(self.var)                        #'안녕하세요'가 출력됨
    
obj = MyClass ()
print(obj.var)                             #'안녕하세요'가 출력됨
obj.sayHello()
#obj.param1


51. 클래스 메소드 이해하기

class MyClass:
  def sayHello(self):
    print("안녕하세요)

  def sayBye(self, name):
    print("%s! 다음에 보자!' %name)

obj = MyClass()
obj.sayHello()                            #'안녕하세요'가 출력됨
obj.sayBye('철수)                          #'철수! 다음에 보자!'가 출력됨
