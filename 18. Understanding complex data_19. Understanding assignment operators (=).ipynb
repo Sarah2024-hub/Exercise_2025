18. 복소수형 자료 이해하기

c1 = 1+7j
print(c1.real); print(c1.imag)
c2 = complex(2, 3)
print(c2)


19. 대입 연산자 이해하기(=)

a = 1
b = 2
ret = a+b
print('a와 b를 더한 값은 ', end=")
print(ret, end=")
print('입니다.)
